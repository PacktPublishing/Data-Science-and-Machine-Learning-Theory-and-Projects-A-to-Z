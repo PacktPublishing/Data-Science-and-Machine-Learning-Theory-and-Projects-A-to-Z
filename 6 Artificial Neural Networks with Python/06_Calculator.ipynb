{
 "cells": [
  {
   "cell_type": "code",
   "execution_count": 20,
   "metadata": {},
   "outputs": [],
   "source": [
    "def printTable(x):\n",
    "    for i in range(10):\n",
    "        print(str(x) + \"*\" + str(i+1)+ \"=\" + str(x*(i+1)))"
   ]
  },
  {
   "cell_type": "code",
   "execution_count": 21,
   "metadata": {},
   "outputs": [
    {
     "name": "stdout",
     "output_type": "stream",
     "text": [
      "Enter first Number \t4\n",
      "Enter second Number \t2\n",
      "Enter + , -,/ or * , t for table and q quit \tt\n",
      "4.0*1=4.0\n",
      "4.0*2=8.0\n",
      "4.0*3=12.0\n",
      "4.0*4=16.0\n",
      "4.0*5=20.0\n",
      "4.0*6=24.0\n",
      "4.0*7=28.0\n",
      "4.0*8=32.0\n",
      "4.0*9=36.0\n",
      "4.0*10=40.0\n",
      "Enter first Number \t65\n",
      "Enter second Number \t3.2\n",
      "Enter + , -,/ or * , t for table and q quit \t*\n",
      "208.0\n",
      "Enter first Number \t54\n",
      "Enter second Number \t69\n",
      "Enter + , -,/ or * , t for table and q quit \tq\n"
     ]
    }
   ],
   "source": [
    "ch = '+'\n",
    "while not(ch == 'q'):\n",
    "    x = input(\"Enter first Number \\t\")\n",
    "    y = input(\"Enter second Number \\t\")\n",
    "    x = float(x)\n",
    "    y = float(y)\n",
    "    ch = input(\"Enter + , -,/ or * , t for table and q quit \\t\")\n",
    "    if ch == '+':\n",
    "        print(x+y)\n",
    "    elif ch == '-':\n",
    "        print(x-y)\n",
    "    elif ch == '/':\n",
    "        print(x/y)\n",
    "    elif ch == '*':\n",
    "        print(x*y)\n",
    "    elif ch == 'q':\n",
    "        break\n",
    "    elif ch == 't':\n",
    "        printTable(x)\n",
    "    else:        \n",
    "        print(\"Your entered wrong choice\")\n",
    "        "
   ]
  },
  {
   "cell_type": "code",
   "execution_count": 19,
   "metadata": {},
   "outputs": [
    {
     "name": "stdout",
     "output_type": "stream",
     "text": [
      "3.4*6=20.4\n"
     ]
    }
   ],
   "source": [
    "x = 3.4\n",
    "i = 5\n",
    "print(str(x) + \"*\" + str(i+1)+ \"=\" + str(x*(i+1)))"
   ]
  },
  {
   "cell_type": "code",
   "execution_count": null,
   "metadata": {},
   "outputs": [],
   "source": []
  }
 ],
 "metadata": {
  "kernelspec": {
   "display_name": "Python 3",
   "language": "python",
   "name": "python3"
  },
  "language_info": {
   "codemirror_mode": {
    "name": "ipython",
    "version": 3
   },
   "file_extension": ".py",
   "mimetype": "text/x-python",
   "name": "python",
   "nbconvert_exporter": "python",
   "pygments_lexer": "ipython3",
   "version": "3.7.0"
  }
 },
 "nbformat": 4,
 "nbformat_minor": 2
}
