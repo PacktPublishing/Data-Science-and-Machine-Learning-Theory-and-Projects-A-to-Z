{
 "cells": [
  {
   "cell_type": "code",
   "execution_count": 3,
   "metadata": {},
   "outputs": [],
   "source": [
    "import matplotlib.pyplot as plt\n",
    "import pandas as pd\n",
    "import numpy as np\n",
    "import tensorflow as tf\n",
    "from tensorflow.keras import layers\n",
    "from sklearn.model_selection import train_test_split\n",
    "from sklearn.preprocessing import StandardScaler"
   ]
  },
  {
   "cell_type": "code",
   "execution_count": 4,
   "metadata": {},
   "outputs": [
    {
     "name": "stdout",
     "output_type": "stream",
     "text": [
      "2.1.0\n"
     ]
    }
   ],
   "source": [
    "print(tf.__version__)"
   ]
  },
  {
   "cell_type": "code",
   "execution_count": 5,
   "metadata": {},
   "outputs": [],
   "source": [
    "titanic = pd.read_csv(r'E:\\ML\\DNN\\final_dataset_ready.csv')\n",
    "dataset = titanic.copy()\n",
    "X = np.asarray(dataset.drop('Survived', 1))\n",
    "y = np.asarray(dataset['Survived'])"
   ]
  },
  {
   "cell_type": "code",
   "execution_count": 7,
   "metadata": {},
   "outputs": [],
   "source": [
    "X_train, X_test, y_train, y_test = train_test_split(X, y, test_size=0.2, random_state=0)"
   ]
  },
  {
   "cell_type": "code",
   "execution_count": 9,
   "metadata": {},
   "outputs": [
    {
     "data": {
      "text/plain": [
       "(179, 9)"
      ]
     },
     "execution_count": 9,
     "metadata": {},
     "output_type": "execute_result"
    }
   ],
   "source": [
    "X_test.shape"
   ]
  },
  {
   "cell_type": "code",
   "execution_count": 11,
   "metadata": {},
   "outputs": [],
   "source": [
    "sc = StandardScaler()\n",
    "X_train_normalized = sc.fit_transform(X_train)\n",
    "X_test_normalized = sc.transform(X_test)"
   ]
  },
  {
   "cell_type": "code",
   "execution_count": 13,
   "metadata": {},
   "outputs": [
    {
     "data": {
      "text/plain": [
       "9"
      ]
     },
     "execution_count": 13,
     "metadata": {},
     "output_type": "execute_result"
    }
   ],
   "source": [
    "X_train_normalized.shape[1]"
   ]
  },
  {
   "cell_type": "code",
   "execution_count": 34,
   "metadata": {},
   "outputs": [],
   "source": [
    "numDims = X_train_normalized.shape[1]\n",
    "dnnModel = tf.keras.Sequential([    \n",
    "    layers.Dense(30, activation='elu', input_shape=(numDims,)),\n",
    "    #layers.BatchNormalization(),\n",
    "    layers.Dropout(0.4),\n",
    "    layers.Dense(16, activation='relu'),\n",
    "    layers.BatchNormalization(),\n",
    "    layers.Dropout(0.3),\n",
    "    layers.Dense(126, activation='relu'),\n",
    "    layers.BatchNormalization(),\n",
    "    layers.Dropout(0.5),\n",
    "    layers.Dense(160, activation='relu'),\n",
    "    layers.BatchNormalization(),\n",
    "    layers.Dropout(0.5),\n",
    "    layers.Dense(10, activation='relu'),\n",
    "    layers.Dropout(0.1),\n",
    "    layers.BatchNormalization(),\n",
    "    layers.Dense(2)\n",
    "])\n",
    "optimizer = tf.keras.optimizers.RMSprop(0.001)\n",
    "dnnModel.compile(optimizer=optimizer,loss=tf.keras.losses.SparseCategoricalCrossentropy(from_logits=True),metrics=['accuracy'])\n",
    "\n"
   ]
  },
  {
   "cell_type": "code",
   "execution_count": 35,
   "metadata": {},
   "outputs": [
    {
     "name": "stdout",
     "output_type": "stream",
     "text": [
      "Model: \"sequential_3\"\n",
      "_________________________________________________________________\n",
      "Layer (type)                 Output Shape              Param #   \n",
      "=================================================================\n",
      "dense_18 (Dense)             (None, 30)                300       \n",
      "_________________________________________________________________\n",
      "dropout_15 (Dropout)         (None, 30)                0         \n",
      "_________________________________________________________________\n",
      "dense_19 (Dense)             (None, 16)                496       \n",
      "_________________________________________________________________\n",
      "batch_normalization_14 (Batc (None, 16)                64        \n",
      "_________________________________________________________________\n",
      "dropout_16 (Dropout)         (None, 16)                0         \n",
      "_________________________________________________________________\n",
      "dense_20 (Dense)             (None, 126)               2142      \n",
      "_________________________________________________________________\n",
      "batch_normalization_15 (Batc (None, 126)               504       \n",
      "_________________________________________________________________\n",
      "dropout_17 (Dropout)         (None, 126)               0         \n",
      "_________________________________________________________________\n",
      "dense_21 (Dense)             (None, 160)               20320     \n",
      "_________________________________________________________________\n",
      "batch_normalization_16 (Batc (None, 160)               640       \n",
      "_________________________________________________________________\n",
      "dropout_18 (Dropout)         (None, 160)               0         \n",
      "_________________________________________________________________\n",
      "dense_22 (Dense)             (None, 10)                1610      \n",
      "_________________________________________________________________\n",
      "dropout_19 (Dropout)         (None, 10)                0         \n",
      "_________________________________________________________________\n",
      "batch_normalization_17 (Batc (None, 10)                40        \n",
      "_________________________________________________________________\n",
      "dense_23 (Dense)             (None, 2)                 22        \n",
      "=================================================================\n",
      "Total params: 26,138\n",
      "Trainable params: 25,514\n",
      "Non-trainable params: 624\n",
      "_________________________________________________________________\n"
     ]
    }
   ],
   "source": [
    "dnnModel.summary()"
   ]
  },
  {
   "cell_type": "code",
   "execution_count": 36,
   "metadata": {},
   "outputs": [
    {
     "name": "stdout",
     "output_type": "stream",
     "text": [
      "Train on 712 samples\n",
      "Epoch 1/100\n",
      "712/712 [==============================] - 3s 5ms/sample - loss: 0.7832 - accuracy: 0.5801\n",
      "Epoch 2/100\n",
      "712/712 [==============================] - 0s 313us/sample - loss: 0.7372 - accuracy: 0.6096\n",
      "Epoch 3/100\n",
      "712/712 [==============================] - 0s 318us/sample - loss: 0.6489 - accuracy: 0.6657\n",
      "Epoch 4/100\n",
      "712/712 [==============================] - 0s 305us/sample - loss: 0.6517 - accuracy: 0.6587\n",
      "Epoch 5/100\n",
      "712/712 [==============================] - 0s 311us/sample - loss: 0.6057 - accuracy: 0.6994\n",
      "Epoch 6/100\n",
      "712/712 [==============================] - 0s 256us/sample - loss: 0.6118 - accuracy: 0.7022\n",
      "Epoch 7/100\n",
      "712/712 [==============================] - 0s 237us/sample - loss: 0.5891 - accuracy: 0.7135\n",
      "Epoch 8/100\n",
      "712/712 [==============================] - 0s 328us/sample - loss: 0.5676 - accuracy: 0.7205 - loss: 0.5541 - accuracy: \n",
      "Epoch 9/100\n",
      "712/712 [==============================] - 0s 259us/sample - loss: 0.5883 - accuracy: 0.7289\n",
      "Epoch 10/100\n",
      "712/712 [==============================] - 0s 265us/sample - loss: 0.5978 - accuracy: 0.7191\n",
      "Epoch 11/100\n",
      "712/712 [==============================] - 0s 273us/sample - loss: 0.5533 - accuracy: 0.7458\n",
      "Epoch 12/100\n",
      "712/712 [==============================] - 0s 299us/sample - loss: 0.5485 - accuracy: 0.7444\n",
      "Epoch 13/100\n",
      "712/712 [==============================] - 0s 258us/sample - loss: 0.5688 - accuracy: 0.7430\n",
      "Epoch 14/100\n",
      "712/712 [==============================] - 0s 259us/sample - loss: 0.5557 - accuracy: 0.7472\n",
      "Epoch 15/100\n",
      "712/712 [==============================] - 0s 282us/sample - loss: 0.5369 - accuracy: 0.7416\n",
      "Epoch 16/100\n",
      "712/712 [==============================] - 0s 285us/sample - loss: 0.5026 - accuracy: 0.7697\n",
      "Epoch 17/100\n",
      "712/712 [==============================] - 0s 328us/sample - loss: 0.5242 - accuracy: 0.7472\n",
      "Epoch 18/100\n",
      "712/712 [==============================] - 0s 262us/sample - loss: 0.5485 - accuracy: 0.7458\n",
      "Epoch 19/100\n",
      "712/712 [==============================] - 0s 257us/sample - loss: 0.5152 - accuracy: 0.7683\n",
      "Epoch 20/100\n",
      "712/712 [==============================] - 0s 259us/sample - loss: 0.4939 - accuracy: 0.7879\n",
      "Epoch 21/100\n",
      "712/712 [==============================] - 0s 369us/sample - loss: 0.5220 - accuracy: 0.7598 - loss: 0.5316 - accuracy: 0.\n",
      "Epoch 22/100\n",
      "712/712 [==============================] - 0s 420us/sample - loss: 0.4912 - accuracy: 0.7767\n",
      "Epoch 23/100\n",
      "712/712 [==============================] - 0s 440us/sample - loss: 0.5104 - accuracy: 0.7767\n",
      "Epoch 24/100\n",
      "712/712 [==============================] - 0s 428us/sample - loss: 0.5089 - accuracy: 0.7851\n",
      "Epoch 25/100\n",
      "712/712 [==============================] - 0s 455us/sample - loss: 0.5089 - accuracy: 0.7739 - loss: 0.5060 - accuracy: 0.77\n",
      "Epoch 26/100\n",
      "712/712 [==============================] - 0s 427us/sample - loss: 0.5272 - accuracy: 0.7711\n",
      "Epoch 27/100\n",
      "712/712 [==============================] - 0s 303us/sample - loss: 0.5099 - accuracy: 0.7767\n",
      "Epoch 28/100\n",
      "712/712 [==============================] - 0s 368us/sample - loss: 0.4944 - accuracy: 0.8020\n",
      "Epoch 29/100\n",
      "712/712 [==============================] - 0s 358us/sample - loss: 0.4895 - accuracy: 0.7879\n",
      "Epoch 30/100\n",
      "712/712 [==============================] - 0s 309us/sample - loss: 0.4795 - accuracy: 0.7963\n",
      "Epoch 31/100\n",
      "712/712 [==============================] - 0s 354us/sample - loss: 0.4894 - accuracy: 0.8006\n",
      "Epoch 32/100\n",
      "712/712 [==============================] - 0s 388us/sample - loss: 0.4767 - accuracy: 0.7907\n",
      "Epoch 33/100\n",
      "712/712 [==============================] - 0s 328us/sample - loss: 0.4959 - accuracy: 0.7837\n",
      "Epoch 34/100\n",
      "712/712 [==============================] - 0s 317us/sample - loss: 0.4841 - accuracy: 0.7992\n",
      "Epoch 35/100\n",
      "712/712 [==============================] - 0s 332us/sample - loss: 0.4787 - accuracy: 0.7978\n",
      "Epoch 36/100\n",
      "712/712 [==============================] - 0s 285us/sample - loss: 0.4780 - accuracy: 0.7837\n",
      "Epoch 37/100\n",
      "712/712 [==============================] - 0s 329us/sample - loss: 0.5040 - accuracy: 0.7851\n",
      "Epoch 38/100\n",
      "712/712 [==============================] - 0s 293us/sample - loss: 0.4900 - accuracy: 0.7949\n",
      "Epoch 39/100\n",
      "712/712 [==============================] - 0s 304us/sample - loss: 0.5016 - accuracy: 0.7851\n",
      "Epoch 40/100\n",
      "712/712 [==============================] - 0s 239us/sample - loss: 0.4747 - accuracy: 0.7907\n",
      "Epoch 41/100\n",
      "712/712 [==============================] - 0s 323us/sample - loss: 0.4779 - accuracy: 0.8034\n",
      "Epoch 42/100\n",
      "712/712 [==============================] - 0s 306us/sample - loss: 0.4697 - accuracy: 0.8048\n",
      "Epoch 43/100\n",
      "712/712 [==============================] - 0s 354us/sample - loss: 0.4835 - accuracy: 0.8062\n",
      "Epoch 44/100\n",
      "712/712 [==============================] - 0s 288us/sample - loss: 0.4685 - accuracy: 0.8020\n",
      "Epoch 45/100\n",
      "712/712 [==============================] - 0s 263us/sample - loss: 0.4720 - accuracy: 0.8048\n",
      "Epoch 46/100\n",
      "712/712 [==============================] - 0s 283us/sample - loss: 0.4812 - accuracy: 0.7865\n",
      "Epoch 47/100\n",
      "712/712 [==============================] - 0s 243us/sample - loss: 0.4781 - accuracy: 0.8034\n",
      "Epoch 48/100\n",
      "712/712 [==============================] - 0s 277us/sample - loss: 0.4689 - accuracy: 0.7978\n",
      "Epoch 49/100\n",
      "712/712 [==============================] - 0s 282us/sample - loss: 0.4652 - accuracy: 0.7921\n",
      "Epoch 50/100\n",
      "712/712 [==============================] - 0s 246us/sample - loss: 0.4789 - accuracy: 0.7992\n",
      "Epoch 51/100\n",
      "712/712 [==============================] - 0s 285us/sample - loss: 0.4873 - accuracy: 0.7978\n",
      "Epoch 52/100\n",
      "712/712 [==============================] - 0s 383us/sample - loss: 0.4847 - accuracy: 0.7935\n",
      "Epoch 53/100\n",
      "712/712 [==============================] - 0s 329us/sample - loss: 0.4749 - accuracy: 0.7935\n",
      "Epoch 54/100\n",
      "712/712 [==============================] - 0s 331us/sample - loss: 0.4523 - accuracy: 0.8132\n",
      "Epoch 55/100\n",
      "712/712 [==============================] - 0s 415us/sample - loss: 0.4639 - accuracy: 0.8090 - loss: 0.4457 - accuracy: \n",
      "Epoch 56/100\n",
      "712/712 [==============================] - 0s 276us/sample - loss: 0.4625 - accuracy: 0.8062\n",
      "Epoch 57/100\n",
      "712/712 [==============================] - 0s 293us/sample - loss: 0.4377 - accuracy: 0.8188\n",
      "Epoch 58/100\n",
      "712/712 [==============================] - 0s 313us/sample - loss: 0.4711 - accuracy: 0.7978\n",
      "Epoch 59/100\n",
      "712/712 [==============================] - 0s 283us/sample - loss: 0.4428 - accuracy: 0.8118\n",
      "Epoch 60/100\n",
      "712/712 [==============================] - 0s 248us/sample - loss: 0.4644 - accuracy: 0.8020\n",
      "Epoch 61/100\n",
      "712/712 [==============================] - 0s 351us/sample - loss: 0.4467 - accuracy: 0.8160\n",
      "Epoch 62/100\n",
      "712/712 [==============================] - 0s 301us/sample - loss: 0.4622 - accuracy: 0.8132\n",
      "Epoch 63/100\n",
      "712/712 [==============================] - 0s 294us/sample - loss: 0.4638 - accuracy: 0.8006\n",
      "Epoch 64/100\n",
      "712/712 [==============================] - 0s 276us/sample - loss: 0.4858 - accuracy: 0.8048\n",
      "Epoch 65/100\n",
      "712/712 [==============================] - 0s 371us/sample - loss: 0.4466 - accuracy: 0.8132\n",
      "Epoch 66/100\n",
      "712/712 [==============================] - 0s 516us/sample - loss: 0.4532 - accuracy: 0.7978\n",
      "Epoch 67/100\n",
      "712/712 [==============================] - 0s 390us/sample - loss: 0.4577 - accuracy: 0.8076\n",
      "Epoch 68/100\n",
      "712/712 [==============================] - 0s 361us/sample - loss: 0.4527 - accuracy: 0.8090\n",
      "Epoch 69/100\n",
      "712/712 [==============================] - 0s 330us/sample - loss: 0.4499 - accuracy: 0.8034\n",
      "Epoch 70/100\n",
      "712/712 [==============================] - 0s 494us/sample - loss: 0.4675 - accuracy: 0.8020\n",
      "Epoch 71/100\n",
      "712/712 [==============================] - 0s 360us/sample - loss: 0.4779 - accuracy: 0.7865\n",
      "Epoch 72/100\n",
      "712/712 [==============================] - 0s 404us/sample - loss: 0.4566 - accuracy: 0.8104\n",
      "Epoch 73/100\n",
      "712/712 [==============================] - 0s 377us/sample - loss: 0.4491 - accuracy: 0.8118\n",
      "Epoch 74/100\n",
      "712/712 [==============================] - 0s 338us/sample - loss: 0.4656 - accuracy: 0.8118\n",
      "Epoch 75/100\n",
      "712/712 [==============================] - 0s 320us/sample - loss: 0.4683 - accuracy: 0.7978\n",
      "Epoch 76/100\n",
      "712/712 [==============================] - 0s 381us/sample - loss: 0.4404 - accuracy: 0.8174\n",
      "Epoch 77/100\n",
      "712/712 [==============================] - 0s 315us/sample - loss: 0.4721 - accuracy: 0.8090\n",
      "Epoch 78/100\n",
      "712/712 [==============================] - 0s 261us/sample - loss: 0.4427 - accuracy: 0.8272\n",
      "Epoch 79/100\n",
      "712/712 [==============================] - 0s 237us/sample - loss: 0.4422 - accuracy: 0.8174\n",
      "Epoch 80/100\n",
      "712/712 [==============================] - 0s 305us/sample - loss: 0.4505 - accuracy: 0.8202\n",
      "Epoch 81/100\n",
      "712/712 [==============================] - 0s 259us/sample - loss: 0.4507 - accuracy: 0.8188\n",
      "Epoch 82/100\n",
      "712/712 [==============================] - 0s 291us/sample - loss: 0.4463 - accuracy: 0.8160\n",
      "Epoch 83/100\n",
      "712/712 [==============================] - 0s 300us/sample - loss: 0.4478 - accuracy: 0.8230\n",
      "Epoch 84/100\n",
      "712/712 [==============================] - 0s 323us/sample - loss: 0.4528 - accuracy: 0.8076\n",
      "Epoch 85/100\n",
      "712/712 [==============================] - 0s 284us/sample - loss: 0.4735 - accuracy: 0.7992\n",
      "Epoch 86/100\n",
      "712/712 [==============================] - 0s 258us/sample - loss: 0.4526 - accuracy: 0.8062\n",
      "Epoch 87/100\n",
      "712/712 [==============================] - 0s 260us/sample - loss: 0.4308 - accuracy: 0.8301\n",
      "Epoch 88/100\n",
      "712/712 [==============================] - 0s 254us/sample - loss: 0.4332 - accuracy: 0.8146\n",
      "Epoch 89/100\n",
      "712/712 [==============================] - 0s 238us/sample - loss: 0.4475 - accuracy: 0.8202\n",
      "Epoch 90/100\n",
      "712/712 [==============================] - 0s 258us/sample - loss: 0.4621 - accuracy: 0.8104\n",
      "Epoch 91/100\n",
      "712/712 [==============================] - 0s 241us/sample - loss: 0.4779 - accuracy: 0.8062\n",
      "Epoch 92/100\n",
      "712/712 [==============================] - 0s 269us/sample - loss: 0.4387 - accuracy: 0.8287\n",
      "Epoch 93/100\n",
      "712/712 [==============================] - 0s 289us/sample - loss: 0.4598 - accuracy: 0.8146\n",
      "Epoch 94/100\n",
      "712/712 [==============================] - 0s 249us/sample - loss: 0.4475 - accuracy: 0.8287\n",
      "Epoch 95/100\n",
      "712/712 [==============================] - ETA: 0s - loss: 0.4215 - accuracy: 0.82 - 0s 371us/sample - loss: 0.4293 - accuracy: 0.8188\n",
      "Epoch 96/100\n",
      "712/712 [==============================] - 0s 341us/sample - loss: 0.4606 - accuracy: 0.8090\n",
      "Epoch 97/100\n",
      "712/712 [==============================] - 0s 265us/sample - loss: 0.4421 - accuracy: 0.8202\n",
      "Epoch 98/100\n",
      "712/712 [==============================] - 0s 272us/sample - loss: 0.4729 - accuracy: 0.8090\n",
      "Epoch 99/100\n",
      "712/712 [==============================] - 0s 337us/sample - loss: 0.4426 - accuracy: 0.8160\n",
      "Epoch 100/100\n",
      "712/712 [==============================] - 0s 298us/sample - loss: 0.4478 - accuracy: 0.8160\n"
     ]
    },
    {
     "data": {
      "text/plain": [
       "<tensorflow.python.keras.callbacks.History at 0x1fb43991708>"
      ]
     },
     "execution_count": 36,
     "metadata": {},
     "output_type": "execute_result"
    }
   ],
   "source": [
    "dnnModel.fit(X_train_normalized, y_train, epochs=100)\n"
   ]
  },
  {
   "cell_type": "code",
   "execution_count": 37,
   "metadata": {},
   "outputs": [
    {
     "name": "stdout",
     "output_type": "stream",
     "text": [
      "179/179 - 0s - loss: 0.4147 - accuracy: 0.8156\n",
      "\n",
      "Test accuracy: 0.8156425\n"
     ]
    }
   ],
   "source": [
    "test_loss, test_acc = dnnModel.evaluate(X_test_normalized,  y_test, verbose=2)\n",
    "print('\\nTest accuracy:', test_acc)\n"
   ]
  },
  {
   "cell_type": "code",
   "execution_count": 38,
   "metadata": {},
   "outputs": [],
   "source": [
    "y_pred = dnnModel.predict_classes(X_test)"
   ]
  },
  {
   "cell_type": "code",
   "execution_count": 40,
   "metadata": {},
   "outputs": [
    {
     "name": "stdout",
     "output_type": "stream",
     "text": [
      "Index =  78   Predicted:: 0   Actual:: 0\n"
     ]
    }
   ],
   "source": [
    "idx = np.random.randint(1,len(y_test))\n",
    "print('Index = ',idx,'  Predicted::',y_pred[idx],'  Actual::',y_test[idx])"
   ]
  },
  {
   "cell_type": "code",
   "execution_count": null,
   "metadata": {},
   "outputs": [],
   "source": []
  },
  {
   "cell_type": "code",
   "execution_count": null,
   "metadata": {},
   "outputs": [],
   "source": []
  }
 ],
 "metadata": {
  "kernelspec": {
   "display_name": "Python 3",
   "language": "python",
   "name": "python3"
  },
  "language_info": {
   "codemirror_mode": {
    "name": "ipython",
    "version": 3
   },
   "file_extension": ".py",
   "mimetype": "text/x-python",
   "name": "python",
   "nbconvert_exporter": "python",
   "pygments_lexer": "ipython3",
   "version": "3.7.6"
  }
 },
 "nbformat": 4,
 "nbformat_minor": 4
}
