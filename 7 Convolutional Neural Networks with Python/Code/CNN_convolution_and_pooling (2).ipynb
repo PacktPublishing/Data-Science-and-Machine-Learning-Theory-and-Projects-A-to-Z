{
 "cells": [
  {
   "cell_type": "code",
   "execution_count": 1,
   "metadata": {},
   "outputs": [],
   "source": [
    "import numpy as np"
   ]
  },
  {
   "cell_type": "code",
   "execution_count": 2,
   "metadata": {},
   "outputs": [],
   "source": [
    "def f_padd(I,p):\n",
    "    numRows = I.shape[0]\n",
    "    numCols = I.shape[1]\n",
    "    zeroRows = np.zeros((p,numCols))\n",
    "    I = np.vstack((zeroRows,I))\n",
    "    I = np.vstack((I,zeroRows))\n",
    "    zeroCols = np.zeros((numRows+2*p,p))\n",
    "    I = np.hstack((zeroCols,I))\n",
    "    I = np.hstack((I,zeroCols))\n",
    "    return I"
   ]
  },
  {
   "cell_type": "code",
   "execution_count": 3,
   "metadata": {},
   "outputs": [],
   "source": [
    "def f_conv2d(I,K,p):\n",
    "    fSize = K.shape[0]\n",
    "    I2 = f_padd(I,p)\n",
    "    numRows = I2.shape[0]\n",
    "    numCols = I2.shape[1]\n",
    "    C = np.zeros((numRows-2*p,numCols-2*p))\n",
    "    for i in range(numRows-fSize+1):\n",
    "        for j in range(numCols-fSize+1):\n",
    "            A = I2[i:i+fSize,j:j+fSize]\n",
    "            C[i,j] = (A.flatten()*K.flatten()).sum()\n",
    "    return C\n",
    "    "
   ]
  },
  {
   "cell_type": "code",
   "execution_count": 4,
   "metadata": {},
   "outputs": [],
   "source": [
    "def f_ReLU(C):\n",
    "    C[C<0] = 0\n",
    "    return C"
   ]
  },
  {
   "cell_type": "code",
   "execution_count": 5,
   "metadata": {},
   "outputs": [],
   "source": [
    "def f_pool(C):\n",
    "    r = C.shape[0]\n",
    "    c = C.shape[1]\n",
    "    S = np.zeros((int(r/2),int(c/2)))\n",
    "    for i in range(0,r,2):\n",
    "        for j in range(0,c,2):\n",
    "            S[int(i/2),int(j/2)] = C[i:i+2,j:j+2].max()\n",
    "    return S"
   ]
  },
  {
   "cell_type": "code",
   "execution_count": 6,
   "metadata": {},
   "outputs": [],
   "source": [
    "def f_sigmoid(f,w,bf):\n",
    "    x = w.dot(f)+bf\n",
    "    y_hat = 1/(1+np.exp(-x))\n",
    "    return y_hat"
   ]
  },
  {
   "cell_type": "code",
   "execution_count": 7,
   "metadata": {},
   "outputs": [],
   "source": [
    "def f_forwardPass(I,K,b,w,bf):\n",
    "    p = int(K.shape[0]/2)\n",
    "    C = f_conv2d(I,K,p)\n",
    "    C = C+b\n",
    "    C = f_ReLU(C)\n",
    "    S = f_pool(C)\n",
    "    f = S.flatten()\n",
    "    y_hat = f_sigmoid(f,w,bf)\n",
    "    return C,f,y_hat"
   ]
  },
  {
   "cell_type": "code",
   "execution_count": 10,
   "metadata": {},
   "outputs": [],
   "source": [
    "def f_getGradient_w(y_hat,y,f):\n",
    "    Dw = np.squeeze(np.zeros((1,len(f))))\n",
    "    a = (y_hat-y)*y_hat*(1-y_hat)\n",
    "    for i in range(len(f)):\n",
    "        Dw[i] = a*f[i]\n",
    "    return Dw"
   ]
  },
  {
   "cell_type": "code",
   "execution_count": 12,
   "metadata": {},
   "outputs": [],
   "source": [
    "def f_getGradient_f(y_hat,y,w):\n",
    "    Df = np.squeeze(np.zeros((1,len(w))))\n",
    "    a = (y_hat-y)*y_hat*(1-y_hat)\n",
    "    for i in range(len(w)):\n",
    "        Df[i] = a*w[i]\n",
    "    return Df"
   ]
  },
  {
   "cell_type": "code",
   "execution_count": 13,
   "metadata": {},
   "outputs": [],
   "source": [
    "def f_getGradient_bf(y_hat,y):\n",
    "    Dbf = (y_hat-y)*y_hat*(1-y_hat)\n",
    "    return Dbf"
   ]
  },
  {
   "cell_type": "code",
   "execution_count": 14,
   "metadata": {},
   "outputs": [],
   "source": [
    "def f_getGradient_S(Df):\n",
    "    n = int(len(Df)**0.5)\n",
    "    DS = Df.reshape((n,n))\n",
    "    return DS"
   ]
  },
  {
   "cell_type": "code",
   "execution_count": 15,
   "metadata": {},
   "outputs": [],
   "source": [
    "def f_getGradient_C(DS,C):\n",
    "    r = C.shape[0]\n",
    "    c = C.shape[1]\n",
    "    DC = np.zeros((r,c))\n",
    "    for i in range(0,r,2):\n",
    "        for j in range(0,c,2):\n",
    "            C_block = C[i:i+2,j:j+2]\n",
    "            ind = np.unravel_index(np.argmax(C_block,axis=None),C_block.shape)\n",
    "            DC[i+ind[0],j+ind[1]] = DS[int(i/2),int(j/2)]\n",
    "    return DC     "
   ]
  },
  {
   "cell_type": "code",
   "execution_count": 16,
   "metadata": {},
   "outputs": [],
   "source": [
    "def f_getChainRuleGradients(C,DC,I,u,v):\n",
    "    DKuv = 0\n",
    "    for i in range(C.shape[0]):\n",
    "        for j in range(C.shape[1]):\n",
    "            if C[i,j]>0 and i-u>=0 and j-v>=0 and i-u<C.shape[0] and j-v<C.shape[1]:\n",
    "                DKuv = DKuv + (I[i-u,j-v]*DC[i,j])\n",
    "    return DKuv"
   ]
  },
  {
   "cell_type": "code",
   "execution_count": 17,
   "metadata": {},
   "outputs": [],
   "source": [
    "def f_getGradient_K(C,I,y_hat,y,w):\n",
    "    Df = f_getGradient_f(y_hat,y,w)\n",
    "    DS = f_getGradient_S(Df)\n",
    "    DC = f_getGradient_C(DS,C)\n",
    "    DK = np.zeros((5,5))\n",
    "    for u in range(-2,3):\n",
    "        for v in range(-2,3):\n",
    "            DK[u+2,v+2] = f_getChainRuleGradients(C,DC,I,u,v)\n",
    "    return DK,DC"
   ]
  },
  {
   "cell_type": "code",
   "execution_count": 18,
   "metadata": {},
   "outputs": [],
   "source": [
    "def f_getGradient_b(C,DC):\n",
    "    Db = DC[C>0].sum()\n",
    "    return Db"
   ]
  },
  {
   "cell_type": "code",
   "execution_count": 19,
   "metadata": {},
   "outputs": [],
   "source": [
    "def f_backwardPass(I,C,f,w,y_hat,y):\n",
    "    Dw = f_getGradient_w(y_hat,y,f)\n",
    "    Dbf = f_getGradient_bf(y_hat,y)\n",
    "    DK,DC = f_getGradient_K(C,I,y_hat,y,w)\n",
    "    Db = f_getGradient_b(C,DC)\n",
    "    return DK,Db,Dw,Dbf"
   ]
  },
  {
   "cell_type": "code",
   "execution_count": 20,
   "metadata": {},
   "outputs": [],
   "source": [
    "def f_initParams():\n",
    "    K = 0.01*np.random.randn(5,5)\n",
    "    b = 0.01*np.random.randn()\n",
    "    w = np.squeeze(0.01*np.random.randn(1,256))\n",
    "    bf = 0.01*np.random.randn()\n",
    "    return K,b,w,bf"
   ]
  },
  {
   "cell_type": "code",
   "execution_count": 38,
   "metadata": {},
   "outputs": [
    {
     "name": "stdout",
     "output_type": "stream",
     "text": [
      "0.4920229785037398\n",
      "0.243209155495617\n",
      "0.15288964553136547\n",
      "0.11512223380183137\n",
      "0.09087306899243046\n",
      "0.07531031211479094\n",
      "0.06470764726937782\n",
      "0.05729752408381704\n",
      "0.051654478064740786\n",
      "0.04719946859083668\n",
      "0.04359662849889232\n",
      "0.04056794188721934\n",
      "0.03802546596762972\n",
      "0.03587733059268647\n",
      "0.03405203009207826\n",
      "0.03244757526677582\n",
      "0.031024403919923484\n",
      "0.029752018091007512\n",
      "0.028606511851509826\n",
      "0.027568868555206745\n",
      "0.026623761696283544\n",
      "0.025758693538737613\n",
      "0.02496336530069008\n",
      "0.02422920923141936\n",
      "0.023549035905569685\n",
      "0.022915914406668098\n",
      "0.022323590582331607\n",
      "0.021769937027563663\n",
      "0.021251060744915732\n",
      "0.0207635869665655\n",
      "0.020304574630617984\n",
      "0.019871447996215756\n",
      "0.01946194089732216\n",
      "0.019074050978987237\n",
      "0.018706001881194704\n",
      "0.018355699463212194\n",
      "0.018021189144092755\n",
      "0.01770243160950251\n",
      "0.017398265894446933\n",
      "0.01710764556369455\n",
      "0.0168296247186427\n",
      "0.016563346025295723\n",
      "0.016308030428783798\n",
      "0.01606296828194199\n",
      "0.015827511664852217\n",
      "0.01560106771175928\n",
      "0.015383092793555568\n",
      "0.015173087429734881\n",
      "0.014970591824611076\n",
      "0.0147751819396627\n"
     ]
    }
   ],
   "source": [
    "I = np.random.randint(1,255,(32,32))\n",
    "y = 0\n",
    "K,b,w,bf = f_initParams()\n",
    "for i in range(50):\n",
    "    C,f,y_hat = f_forwardPass(I,K,b,w,bf)\n",
    "    print(y_hat)\n",
    "    DK,Db,Dw,Dbf = f_backwardPass(I,C,f,w,y_hat,y)\n",
    "    alpha = 0.001\n",
    "    K = K - alpha*DK\n",
    "    b = b - alpha*Db\n",
    "    w = w - alpha*Dw\n",
    "    bf = bf - alpha*Dbf\n",
    "    \n"
   ]
  },
  {
   "cell_type": "code",
   "execution_count": 33,
   "metadata": {},
   "outputs": [
    {
     "data": {
      "text/plain": [
       "0.895626736610168"
      ]
     },
     "execution_count": 33,
     "metadata": {},
     "output_type": "execute_result"
    }
   ],
   "source": [
    "y_hat"
   ]
  },
  {
   "cell_type": "code",
   "execution_count": 24,
   "metadata": {},
   "outputs": [
    {
     "data": {
      "text/plain": [
       "256"
      ]
     },
     "execution_count": 24,
     "metadata": {},
     "output_type": "execute_result"
    }
   ],
   "source": [
    "len(f)"
   ]
  },
  {
   "cell_type": "code",
   "execution_count": 25,
   "metadata": {},
   "outputs": [
    {
     "data": {
      "text/plain": [
       "0.4961399908819838"
      ]
     },
     "execution_count": 25,
     "metadata": {},
     "output_type": "execute_result"
    }
   ],
   "source": [
    "y_hat"
   ]
  },
  {
   "cell_type": "code",
   "execution_count": 27,
   "metadata": {},
   "outputs": [
    {
     "data": {
      "text/plain": [
       "array([[-2.97547376, -2.61208367, -1.25452159, -0.10679289, -1.12689902],\n",
       "       [-2.60374285, -2.91080737, -2.63396244, -3.35799435, -3.24738384],\n",
       "       [-3.56845218, -3.09257297, -1.02921786, -4.64212009, -2.74420624],\n",
       "       [-3.32659253, -2.67697302, -3.12026933, -3.79688228, -1.79560188],\n",
       "       [-2.45224328, -3.83832392, -1.55289401, -2.82055551, -2.72611557]])"
      ]
     },
     "execution_count": 27,
     "metadata": {},
     "output_type": "execute_result"
    }
   ],
   "source": [
    "DK"
   ]
  },
  {
   "cell_type": "code",
   "execution_count": 28,
   "metadata": {},
   "outputs": [
    {
     "data": {
      "text/plain": [
       "array([-0.34803887, -0.81728514, -0.87373002, -1.14537418, -0.59310609,\n",
       "       -0.20351208, -0.72914047, -0.88524479, -0.41872099, -0.41498201,\n",
       "       -0.37638551, -0.73271683, -0.30267096, -0.51834231, -0.77523831,\n",
       "       -0.30602767, -0.47541978, -0.5287802 , -0.39389314, -0.2601277 ,\n",
       "       -1.15820767, -0.16973692, -0.11222836, -0.        , -0.46965639,\n",
       "       -0.75465536, -0.47732463, -0.34511674, -0.30446064, -0.49239171,\n",
       "       -0.40545826, -0.71765816, -0.23753064, -0.23499351, -1.42790353,\n",
       "       -0.17978169, -0.51620326, -1.13837197, -0.25103392, -0.66151841,\n",
       "       -1.21015924, -0.46574599, -0.43922686, -0.37903103, -0.18672564,\n",
       "       -0.43357395, -1.08880907, -0.        , -0.6861942 , -0.58266859,\n",
       "       -0.49492594, -0.40179354, -0.52538117, -0.50736274, -1.15901314,\n",
       "       -0.39998735, -0.22748738, -0.18657371, -0.68763762, -0.        ,\n",
       "       -0.54415166, -0.26445015, -0.66209606, -0.31885034, -0.18546286,\n",
       "       -0.31396223, -0.89413688, -0.55533751, -0.40425145, -0.93037689,\n",
       "       -0.79868628, -0.48441011, -0.35975779, -0.6919888 , -0.4964582 ,\n",
       "       -0.62925026, -1.08212084, -0.58229601, -0.08226466, -0.40732064,\n",
       "       -0.49967268, -0.50396907, -0.48534156, -0.32748795, -0.49214408,\n",
       "       -0.0388831 , -0.47729357, -0.423376  , -0.4703694 , -0.15264267,\n",
       "       -0.75282001, -0.88297674, -0.22543503, -0.60561293, -0.62865227,\n",
       "       -0.04793328, -0.34216996, -1.13817544, -0.56775143, -0.56024257,\n",
       "       -0.73312023, -0.33155966, -0.36223231, -0.7307187 , -0.96041906,\n",
       "       -0.23559464, -0.67419153, -0.75881377, -0.27572134, -0.66503538,\n",
       "       -0.89855134, -0.22327997, -0.19686894, -0.59053428, -0.        ,\n",
       "       -1.00811868, -0.78952826, -0.515134  , -0.46587462, -0.96329019,\n",
       "       -1.02510528, -0.52449331, -0.71891822, -0.19767294, -0.29167654,\n",
       "       -0.08972099, -0.59508678, -0.57014449, -0.73343748, -0.85330007,\n",
       "       -0.50942077, -0.44487296, -0.44616715, -0.53951918, -0.24028061,\n",
       "       -0.26998891, -0.24709156, -1.07668906, -0.29269902, -0.19029594,\n",
       "       -1.04705006, -0.60853525, -0.22220069, -0.41877886, -0.51752949,\n",
       "       -0.9588315 , -0.81089911, -0.7164498 , -0.71108204, -0.20518753,\n",
       "       -0.85248239, -0.214624  , -0.69954589, -0.76850704, -0.64107039,\n",
       "       -0.52414974, -0.19134866, -0.31759293, -0.66596614, -0.16377858,\n",
       "       -0.63648681, -0.17859177, -1.2117078 , -1.37772717, -0.53347928,\n",
       "       -0.75040356, -0.53495596, -0.61044522, -0.74508245, -1.07874703,\n",
       "       -0.75113656, -0.18402508, -0.66717564, -0.21747083, -0.67363453,\n",
       "       -0.77430225, -0.08561174, -0.3662409 , -0.20107899, -0.76480246,\n",
       "       -0.47707945, -0.26708987, -0.71377712, -0.62721932, -0.81756436,\n",
       "       -0.61106867, -0.71590925, -0.31782441, -0.19976453, -0.95697408,\n",
       "       -0.62843286, -0.48071353, -0.09375682, -0.69239711, -0.41839629,\n",
       "       -0.45638528, -0.32304649, -1.11465096, -0.2974555 , -0.21426432,\n",
       "       -0.53033058, -0.37012502, -0.55715697, -0.41565909, -0.28591755,\n",
       "       -0.83378255, -0.55600405, -0.09982022, -0.50985042, -0.83994837,\n",
       "       -0.36780444, -0.64577747, -0.20603587, -0.3443035 , -0.46436854,\n",
       "       -0.87636926, -0.98491447, -0.2983588 , -0.70240831, -0.6073161 ,\n",
       "       -0.66639739, -0.        , -0.        , -0.37948339, -0.23467308,\n",
       "       -0.49169168, -0.60721213, -0.61521733, -0.25792916, -0.50436017,\n",
       "       -0.39641599, -0.84554512, -0.96357743, -0.58247333, -0.97141872,\n",
       "       -0.50868668, -0.53447164, -0.69337092, -0.23469518, -0.62994825,\n",
       "       -0.08568491, -0.24542768, -0.20447445, -0.12108686, -0.14770146,\n",
       "       -0.66341001, -0.6729699 , -0.76349779, -0.51623553, -0.        ,\n",
       "       -0.01641897, -0.78097847, -0.46456612, -0.1752207 , -0.07035359,\n",
       "       -0.        ])"
      ]
     },
     "execution_count": 28,
     "metadata": {},
     "output_type": "execute_result"
    }
   ],
   "source": [
    "Dw"
   ]
  },
  {
   "cell_type": "code",
   "execution_count": 29,
   "metadata": {},
   "outputs": [
    {
     "data": {
      "text/plain": [
       "-0.020351432784903194"
      ]
     },
     "execution_count": 29,
     "metadata": {},
     "output_type": "execute_result"
    }
   ],
   "source": [
    "Db"
   ]
  },
  {
   "cell_type": "code",
   "execution_count": 30,
   "metadata": {},
   "outputs": [
    {
     "data": {
      "text/plain": [
       "-0.1060162056883096"
      ]
     },
     "execution_count": 30,
     "metadata": {},
     "output_type": "execute_result"
    }
   ],
   "source": [
    "Dbf"
   ]
  },
  {
   "cell_type": "code",
   "execution_count": null,
   "metadata": {},
   "outputs": [],
   "source": []
  }
 ],
 "metadata": {
  "kernelspec": {
   "display_name": "Python 3",
   "language": "python",
   "name": "python3"
  },
  "language_info": {
   "codemirror_mode": {
    "name": "ipython",
    "version": 3
   },
   "file_extension": ".py",
   "mimetype": "text/x-python",
   "name": "python",
   "nbconvert_exporter": "python",
   "pygments_lexer": "ipython3",
   "version": "3.8.3"
  }
 },
 "nbformat": 4,
 "nbformat_minor": 4
}
